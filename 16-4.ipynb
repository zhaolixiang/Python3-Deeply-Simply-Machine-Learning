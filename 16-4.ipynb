{
 "cells": [
  {
   "cell_type": "code",
   "execution_count": 3,
   "metadata": {
    "collapsed": true
   },
   "outputs": [],
   "source": [
    "# 导入numpy\n",
    "import numpy as np\n",
    "# 导人画图工具\n",
    "import matplotlib.pyplot as plt\n",
    "from matplotlib.colors import ListedColormap\n",
    "# 导入tree 模型和数据集加载工具\n",
    "from sklearn import tree, datasets\n",
    "# 导入数据集拆分工具\n",
    "from sklearn.model_selection import train_test_split\n",
    "\n",
    "wine = datasets.load_wine()\n",
    "# 只选取数据集的前两个特征\n",
    "X = wine.data[:, : 2]\n",
    "y = wine.target\n",
    "# 将数据集拆分为训练集和测试集\n",
    "X_train, X_test, y_train, y_test = train_test_split(X, y)\n",
    "\n",
    "# 设定决策树分类器最大深度为5\n",
    "clf = tree.DecisionTreeClassifier(max_depth=3)\n",
    "# 拟合训练数据集\n",
    "clf.fit(X_train, y_train)\n",
    "\n",
    "\n",
    "# 导入graphviz工具\n",
    "import graphviz\n",
    "# 导入决策树中输出graphviz的接口\n",
    "from sklearn.tree import export_graphviz\n",
    "\n",
    "# 选择最大深度为3的分类模型\n",
    "export_graphviz(clf, out_file=\"wine.dot\", class_names=wine.target_names,\n",
    "                feature_names=wine.feature_names[: 2], impurity=False, filled=True)\n",
    "# 打开一个dot文件\n",
    "with open(\"wine.dot\") as f:\n",
    "    dot_graph = f.read()\n",
    "    # 显示dot文件中的图形\n",
    "    graphviz.Source(dot_graph)\n",
    "    \n"
   ]
  },
  {
   "cell_type": "code",
   "execution_count": 2,
   "metadata": {},
   "outputs": [],
   "source": []
  },
  {
   "cell_type": "code",
   "execution_count": null,
   "metadata": {},
   "outputs": [],
   "source": []
  }
 ],
 "metadata": {
  "kernelspec": {
   "display_name": "Python 2",
   "language": "python",
   "name": "python2"
  },
  "language_info": {
   "codemirror_mode": {
    "name": "ipython",
    "version": 2
   },
   "file_extension": ".py",
   "mimetype": "text/x-python",
   "name": "python",
   "nbconvert_exporter": "python",
   "pygments_lexer": "ipython2",
   "version": "2.7.6"
  }
 },
 "nbformat": 4,
 "nbformat_minor": 0
}
